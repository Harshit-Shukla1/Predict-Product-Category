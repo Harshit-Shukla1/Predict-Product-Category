{
 "cells": [
  {
   "cell_type": "markdown",
   "metadata": {},
   "source": [
    "# The Great Indian Data Scientist Hiring Challenge"
   ]
  },
  {
   "cell_type": "code",
   "execution_count": 1,
   "metadata": {},
   "outputs": [],
   "source": [
    "import pandas as pd\n",
    "import numpy as np\n",
    "import matplotlib.pyplot as plt\n"
   ]
  },
  {
   "cell_type": "markdown",
   "metadata": {},
   "source": [
    "## Loading 'Train.csv' file"
   ]
  },
  {
   "cell_type": "code",
   "execution_count": 2,
   "metadata": {},
   "outputs": [
    {
     "data": {
      "text/html": [
       "<div>\n",
       "<style scoped>\n",
       "    .dataframe tbody tr th:only-of-type {\n",
       "        vertical-align: middle;\n",
       "    }\n",
       "\n",
       "    .dataframe tbody tr th {\n",
       "        vertical-align: top;\n",
       "    }\n",
       "\n",
       "    .dataframe thead th {\n",
       "        text-align: right;\n",
       "    }\n",
       "</style>\n",
       "<table border=\"1\" class=\"dataframe\">\n",
       "  <thead>\n",
       "    <tr style=\"text-align: right;\">\n",
       "      <th></th>\n",
       "      <th>Inv_Id</th>\n",
       "      <th>Vendor_Code</th>\n",
       "      <th>GL_Code</th>\n",
       "      <th>Inv_Amt</th>\n",
       "      <th>Item_Description</th>\n",
       "      <th>Product_Category</th>\n",
       "    </tr>\n",
       "  </thead>\n",
       "  <tbody>\n",
       "    <tr>\n",
       "      <th>0</th>\n",
       "      <td>15001</td>\n",
       "      <td>VENDOR-1676</td>\n",
       "      <td>GL-6100410</td>\n",
       "      <td>83.24</td>\n",
       "      <td>Artworking/Typesetting Production Jun 2009 Cha...</td>\n",
       "      <td>CLASS-1963</td>\n",
       "    </tr>\n",
       "    <tr>\n",
       "      <th>1</th>\n",
       "      <td>15002</td>\n",
       "      <td>VENDOR-1883</td>\n",
       "      <td>GL-2182000</td>\n",
       "      <td>51.18</td>\n",
       "      <td>Auto Leasing Corporate Services Corning Inc /N...</td>\n",
       "      <td>CLASS-1250</td>\n",
       "    </tr>\n",
       "    <tr>\n",
       "      <th>2</th>\n",
       "      <td>15004</td>\n",
       "      <td>VENDOR-1999</td>\n",
       "      <td>GL-6050100</td>\n",
       "      <td>79.02</td>\n",
       "      <td>Store Management Lease/Rent Deltona Corp Real ...</td>\n",
       "      <td>CLASS-1274</td>\n",
       "    </tr>\n",
       "    <tr>\n",
       "      <th>3</th>\n",
       "      <td>15005</td>\n",
       "      <td>VENDOR-1771</td>\n",
       "      <td>GL-6101400</td>\n",
       "      <td>48.50</td>\n",
       "      <td>Store Construction General Requirements Coloni...</td>\n",
       "      <td>CLASS-1522</td>\n",
       "    </tr>\n",
       "    <tr>\n",
       "      <th>4</th>\n",
       "      <td>15006</td>\n",
       "      <td>VENDOR-1331</td>\n",
       "      <td>GL-2182000</td>\n",
       "      <td>63.35</td>\n",
       "      <td>Jul 2015 Aydin Corp Contingent Labor/Temp Labo...</td>\n",
       "      <td>CLASS-1376</td>\n",
       "    </tr>\n",
       "  </tbody>\n",
       "</table>\n",
       "</div>"
      ],
      "text/plain": [
       "   Inv_Id  Vendor_Code     GL_Code  Inv_Amt  \\\n",
       "0   15001  VENDOR-1676  GL-6100410    83.24   \n",
       "1   15002  VENDOR-1883  GL-2182000    51.18   \n",
       "2   15004  VENDOR-1999  GL-6050100    79.02   \n",
       "3   15005  VENDOR-1771  GL-6101400    48.50   \n",
       "4   15006  VENDOR-1331  GL-2182000    63.35   \n",
       "\n",
       "                                    Item_Description Product_Category  \n",
       "0  Artworking/Typesetting Production Jun 2009 Cha...       CLASS-1963  \n",
       "1  Auto Leasing Corporate Services Corning Inc /N...       CLASS-1250  \n",
       "2  Store Management Lease/Rent Deltona Corp Real ...       CLASS-1274  \n",
       "3  Store Construction General Requirements Coloni...       CLASS-1522  \n",
       "4  Jul 2015 Aydin Corp Contingent Labor/Temp Labo...       CLASS-1376  "
      ]
     },
     "execution_count": 2,
     "metadata": {},
     "output_type": "execute_result"
    }
   ],
   "source": [
    "df = pd.read_csv('Train.csv')\n",
    "df.head()"
   ]
  },
  {
   "cell_type": "markdown",
   "metadata": {},
   "source": [
    "## Gathering Information and Cleaning Data"
   ]
  },
  {
   "cell_type": "code",
   "execution_count": 3,
   "metadata": {},
   "outputs": [
    {
     "name": "stdout",
     "output_type": "stream",
     "text": [
      "<class 'pandas.core.frame.DataFrame'>\n",
      "RangeIndex: 5566 entries, 0 to 5565\n",
      "Data columns (total 6 columns):\n",
      "Inv_Id              5566 non-null int64\n",
      "Vendor_Code         5566 non-null object\n",
      "GL_Code             5566 non-null object\n",
      "Inv_Amt             5566 non-null float64\n",
      "Item_Description    5566 non-null object\n",
      "Product_Category    5566 non-null object\n",
      "dtypes: float64(1), int64(1), object(4)\n",
      "memory usage: 261.0+ KB\n"
     ]
    }
   ],
   "source": [
    "df.info()"
   ]
  },
  {
   "cell_type": "code",
   "execution_count": 4,
   "metadata": {},
   "outputs": [
    {
     "data": {
      "text/html": [
       "<div>\n",
       "<style scoped>\n",
       "    .dataframe tbody tr th:only-of-type {\n",
       "        vertical-align: middle;\n",
       "    }\n",
       "\n",
       "    .dataframe tbody tr th {\n",
       "        vertical-align: top;\n",
       "    }\n",
       "\n",
       "    .dataframe thead th {\n",
       "        text-align: right;\n",
       "    }\n",
       "</style>\n",
       "<table border=\"1\" class=\"dataframe\">\n",
       "  <thead>\n",
       "    <tr style=\"text-align: right;\">\n",
       "      <th></th>\n",
       "      <th>Inv_Id</th>\n",
       "      <th>Inv_Amt</th>\n",
       "    </tr>\n",
       "  </thead>\n",
       "  <tbody>\n",
       "    <tr>\n",
       "      <th>count</th>\n",
       "      <td>5566.000000</td>\n",
       "      <td>5566.000000</td>\n",
       "    </tr>\n",
       "    <tr>\n",
       "      <th>mean</th>\n",
       "      <td>19010.787100</td>\n",
       "      <td>49.980151</td>\n",
       "    </tr>\n",
       "    <tr>\n",
       "      <th>std</th>\n",
       "      <td>2306.607485</td>\n",
       "      <td>28.903030</td>\n",
       "    </tr>\n",
       "    <tr>\n",
       "      <th>min</th>\n",
       "      <td>15001.000000</td>\n",
       "      <td>0.010000</td>\n",
       "    </tr>\n",
       "    <tr>\n",
       "      <th>25%</th>\n",
       "      <td>17006.250000</td>\n",
       "      <td>24.957500</td>\n",
       "    </tr>\n",
       "    <tr>\n",
       "      <th>50%</th>\n",
       "      <td>19017.500000</td>\n",
       "      <td>49.645000</td>\n",
       "    </tr>\n",
       "    <tr>\n",
       "      <th>75%</th>\n",
       "      <td>20994.750000</td>\n",
       "      <td>75.170000</td>\n",
       "    </tr>\n",
       "    <tr>\n",
       "      <th>max</th>\n",
       "      <td>23012.000000</td>\n",
       "      <td>99.990000</td>\n",
       "    </tr>\n",
       "  </tbody>\n",
       "</table>\n",
       "</div>"
      ],
      "text/plain": [
       "             Inv_Id      Inv_Amt\n",
       "count   5566.000000  5566.000000\n",
       "mean   19010.787100    49.980151\n",
       "std     2306.607485    28.903030\n",
       "min    15001.000000     0.010000\n",
       "25%    17006.250000    24.957500\n",
       "50%    19017.500000    49.645000\n",
       "75%    20994.750000    75.170000\n",
       "max    23012.000000    99.990000"
      ]
     },
     "execution_count": 4,
     "metadata": {},
     "output_type": "execute_result"
    }
   ],
   "source": [
    "df.describe()"
   ]
  },
  {
   "cell_type": "code",
   "execution_count": 5,
   "metadata": {},
   "outputs": [
    {
     "data": {
      "text/plain": [
       "(5566, 6)"
      ]
     },
     "execution_count": 5,
     "metadata": {},
     "output_type": "execute_result"
    }
   ],
   "source": [
    "df.shape"
   ]
  },
  {
   "cell_type": "code",
   "execution_count": 6,
   "metadata": {},
   "outputs": [
    {
     "data": {
      "text/plain": [
       "Inv_Id              0\n",
       "Vendor_Code         0\n",
       "GL_Code             0\n",
       "Inv_Amt             0\n",
       "Item_Description    0\n",
       "Product_Category    0\n",
       "dtype: int64"
      ]
     },
     "execution_count": 6,
     "metadata": {},
     "output_type": "execute_result"
    }
   ],
   "source": [
    "df.isnull().sum()"
   ]
  },
  {
   "cell_type": "code",
   "execution_count": 7,
   "metadata": {},
   "outputs": [
    {
     "data": {
      "text/plain": [
       "0"
      ]
     },
     "execution_count": 7,
     "metadata": {},
     "output_type": "execute_result"
    }
   ],
   "source": [
    "sum(df.duplicated())"
   ]
  },
  {
   "cell_type": "code",
   "execution_count": 8,
   "metadata": {},
   "outputs": [
    {
     "name": "stdout",
     "output_type": "stream",
     "text": [
      "Artworking/Typesetting Production Jun 2009 Champion Parts Inc SMAP Prototype and Comp Production/Packaging Design\n",
      "Auto Leasing Corporate Services Corning Inc /Ny 2013-Mar  Auto Leasing and Maintenance Other Corporate Services\n",
      "Store Management Lease/Rent Deltona Corp Real Estate Base Rent Jul2018\n",
      "Store Construction General Requirements Colonial Trust Iii General Contractor Final Site Clean Up 2005-Dec \n",
      "Jul 2015 Aydin Corp Contingent Labor/Temp Labor Contingent Labor/Temp Labor Corporate Services Human Resources\n",
      "Final Site Clean Up 2018Mar Store Construction Dravo Corp General Contractor General Requirements\n",
      "Travel and Entertainment Miscellaneous Company Car (Field Only) Texas New Mexico Power Co Ground Transportation Miscellaneous Company Car (Field Only) 2011-Mar \n",
      "General Contractor General Requirements Final Site Clean Up American Pad & Paper Co Apr2014 Store Construction\n",
      "Aquila Distributors Inc                                 /Bd Prototype and Comp Production/Packaging Design Jul 2007 Artworking/Typesetting Production SMAP\n",
      "Base Rent Store Management Chicago Rivet & Machine Co Dec-2017 Lease/Rent Real Estate\n"
     ]
    }
   ],
   "source": [
    "for i in range(10):\n",
    "    print(df['Item_Description'].iloc[i])"
   ]
  },
  {
   "cell_type": "markdown",
   "metadata": {},
   "source": [
    "## Cleaning Item_Description for Analysis and Prediction"
   ]
  },
  {
   "cell_type": "code",
   "execution_count": 9,
   "metadata": {},
   "outputs": [],
   "source": [
    "import re\n",
    "import nltk\n",
    "from nltk.corpus import stopwords"
   ]
  },
  {
   "cell_type": "code",
   "execution_count": 10,
   "metadata": {},
   "outputs": [],
   "source": [
    "import string\n",
    "stop_words = set(stopwords.words(\"english\"))\n",
    "def remove_punctuation(text):\n",
    "    text=text.lower()\n",
    "    text = ' '.join(word for word in text.split() if word not in stop_words)\n",
    "    text=[i for i in text if i not in string.punctuation]\n",
    "    no_punc=''.join(text)\n",
    "    return no_punc"
   ]
  },
  {
   "cell_type": "code",
   "execution_count": 11,
   "metadata": {},
   "outputs": [],
   "source": [
    "df['Item_Description']=df['Item_Description'].apply(remove_punctuation)"
   ]
  },
  {
   "cell_type": "code",
   "execution_count": 12,
   "metadata": {
    "scrolled": true
   },
   "outputs": [
    {
     "name": "stdout",
     "output_type": "stream",
     "text": [
      "artworkingtypesetting production jun 2009 champion parts inc smap prototype comp productionpackaging design\n",
      "auto leasing corporate services corning inc ny 2013mar auto leasing maintenance corporate services\n",
      "store management leaserent deltona corp real estate base rent jul2018\n",
      "store construction general requirements colonial trust iii general contractor final site clean 2005dec\n",
      "jul 2015 aydin corp contingent labortemp labor contingent labortemp labor corporate services human resources\n",
      "final site clean 2018mar store construction dravo corp general contractor general requirements\n",
      "travel entertainment miscellaneous company car field only texas new mexico power co ground transportation miscellaneous company car field only 2011mar\n",
      "general contractor general requirements final site clean american pad  paper co apr2014 store construction\n",
      "aquila distributors inc bd prototype comp productionpackaging design jul 2007 artworkingtypesetting production smap\n",
      "base rent store management chicago rivet  machine co dec2017 leaserent real estate\n"
     ]
    }
   ],
   "source": [
    "for i in range(10):\n",
    "    print ((df['Item_Description'].iloc[i]))"
   ]
  },
  {
   "cell_type": "markdown",
   "metadata": {},
   "source": [
    "### 'Item_Description' - Feature Data  and  'Product_Category' - Label Data"
   ]
  },
  {
   "cell_type": "markdown",
   "metadata": {},
   "source": [
    "# Machine Learning"
   ]
  },
  {
   "cell_type": "code",
   "execution_count": 13,
   "metadata": {},
   "outputs": [],
   "source": [
    "from sklearn.model_selection import train_test_split\n",
    "\n",
    "X = df.Item_Description\n",
    "y = df.Product_Category\n",
    "X_train, X_test, y_train, y_test = train_test_split(X, y, test_size=0.3, random_state = 42) "
   ]
  },
  {
   "cell_type": "markdown",
   "metadata": {},
   "source": [
    "## Three Machine Learning models are used for training and testing on the dataset. \n",
    "#### Logistic Regression, Random Forest and Decision Tree"
   ]
  },
  {
   "cell_type": "code",
   "execution_count": 15,
   "metadata": {},
   "outputs": [],
   "source": [
    "from sklearn.pipeline import Pipeline\n",
    "from sklearn.feature_extraction.text import TfidfTransformer,CountVectorizer,TfidfVectorizer\n",
    "from sklearn.ensemble import RandomForestClassifier\n",
    "from sklearn.svm import SVC\n",
    "from sklearn.linear_model import LogisticRegression\n",
    "from sklearn.tree import DecisionTreeClassifier\n",
    "\n",
    "\n"
   ]
  },
  {
   "cell_type": "markdown",
   "metadata": {},
   "source": [
    "### Cross-Validation using Pipeline of CountVectorizer and TfidfTransformer"
   ]
  },
  {
   "cell_type": "markdown",
   "metadata": {},
   "source": [
    "## Logistic Regression"
   ]
  },
  {
   "cell_type": "code",
   "execution_count": 16,
   "metadata": {},
   "outputs": [],
   "source": [
    "lr =Pipeline([('vect', CountVectorizer()),\n",
    "                ('tfidf', TfidfTransformer()),\n",
    "                ('clf', LogisticRegression(multi_class='auto', solver='lbfgs')),\n",
    "               ])\n",
    "\n",
    "\n"
   ]
  },
  {
   "cell_type": "code",
   "execution_count": 17,
   "metadata": {},
   "outputs": [
    {
     "data": {
      "text/plain": [
       "0.9910179640718563"
      ]
     },
     "execution_count": 17,
     "metadata": {},
     "output_type": "execute_result"
    }
   ],
   "source": [
    "lr.fit(X_train, y_train)\n",
    "lr.score(X_test, y_test)\n",
    "\n"
   ]
  },
  {
   "cell_type": "markdown",
   "metadata": {},
   "source": [
    "## Random Forest"
   ]
  },
  {
   "cell_type": "code",
   "execution_count": 18,
   "metadata": {},
   "outputs": [],
   "source": [
    "rf =Pipeline([('vect', CountVectorizer()),\n",
    "             ('tfidf', TfidfTransformer()),\n",
    "             ('clf', RandomForestClassifier(n_estimators=100)),\n",
    "             ])\n"
   ]
  },
  {
   "cell_type": "code",
   "execution_count": 19,
   "metadata": {},
   "outputs": [
    {
     "data": {
      "text/plain": [
       "0.9940119760479041"
      ]
     },
     "execution_count": 19,
     "metadata": {},
     "output_type": "execute_result"
    }
   ],
   "source": [
    "rf.fit(X_train, y_train)\n",
    "rf.score(X_test, y_test)"
   ]
  },
  {
   "cell_type": "markdown",
   "metadata": {},
   "source": [
    "## Decision Tree "
   ]
  },
  {
   "cell_type": "code",
   "execution_count": 20,
   "metadata": {},
   "outputs": [],
   "source": [
    "dt =Pipeline([('vect', CountVectorizer()),\n",
    "             ('tfidf', TfidfTransformer()),\n",
    "             ('clf', DecisionTreeClassifier())\n",
    "             ])\n"
   ]
  },
  {
   "cell_type": "code",
   "execution_count": 21,
   "metadata": {},
   "outputs": [
    {
     "data": {
      "text/plain": [
       "0.9958083832335329"
      ]
     },
     "execution_count": 21,
     "metadata": {},
     "output_type": "execute_result"
    }
   ],
   "source": [
    "dt.fit(X_train, y_train)\n",
    "dt.score(X_test, y_test)"
   ]
  },
  {
   "cell_type": "markdown",
   "metadata": {},
   "source": [
    "## Finding Accuracy for Prediction"
   ]
  },
  {
   "cell_type": "code",
   "execution_count": 22,
   "metadata": {},
   "outputs": [],
   "source": [
    "from sklearn import metrics"
   ]
  },
  {
   "cell_type": "markdown",
   "metadata": {},
   "source": [
    "### Linear Regression Accuracy"
   ]
  },
  {
   "cell_type": "code",
   "execution_count": 23,
   "metadata": {},
   "outputs": [
    {
     "name": "stdout",
     "output_type": "stream",
     "text": [
      "accuracy 0.9910179640718563\n"
     ]
    }
   ],
   "source": [
    "y_pred = lr.predict(X_test)\n",
    "print('accuracy %s' % metrics.accuracy_score(y_pred, y_test))"
   ]
  },
  {
   "cell_type": "markdown",
   "metadata": {},
   "source": [
    "### Random Forest Accuracy"
   ]
  },
  {
   "cell_type": "code",
   "execution_count": 24,
   "metadata": {},
   "outputs": [
    {
     "name": "stdout",
     "output_type": "stream",
     "text": [
      "accuracy 0.9940119760479041\n"
     ]
    }
   ],
   "source": [
    "y_pred = rf.predict(X_test)\n",
    "print('accuracy %s' % metrics.accuracy_score(y_pred, y_test))"
   ]
  },
  {
   "cell_type": "markdown",
   "metadata": {},
   "source": [
    "### Decision Tree Accuracy"
   ]
  },
  {
   "cell_type": "code",
   "execution_count": 26,
   "metadata": {},
   "outputs": [
    {
     "name": "stdout",
     "output_type": "stream",
     "text": [
      "accuracy 0.9958083832335329\n"
     ]
    }
   ],
   "source": [
    "y_pred = dt.predict(X_test)\n",
    "print('accuracy %s' % metrics.accuracy_score(y_pred, y_test))"
   ]
  },
  {
   "cell_type": "markdown",
   "metadata": {},
   "source": [
    "## After Cross-Validation Score, Accuracy of Decision Tree is Highest so we use Decision Tree for the Prediction of Product_Category"
   ]
  },
  {
   "cell_type": "markdown",
   "metadata": {},
   "source": [
    "## Loading Test.csv and Cleaning"
   ]
  },
  {
   "cell_type": "code",
   "execution_count": 27,
   "metadata": {},
   "outputs": [],
   "source": [
    "dftest = pd.read_csv('Test.csv')\n",
    "dftest['Item_Description']=dftest['Item_Description'].apply(remove_punctuation)"
   ]
  },
  {
   "cell_type": "code",
   "execution_count": 28,
   "metadata": {},
   "outputs": [],
   "source": [
    "dftest['Product_Category']=pd.Series(dt.predict(dftest['Item_Description']))\n"
   ]
  },
  {
   "cell_type": "code",
   "execution_count": 29,
   "metadata": {},
   "outputs": [
    {
     "data": {
      "text/html": [
       "<div>\n",
       "<style scoped>\n",
       "    .dataframe tbody tr th:only-of-type {\n",
       "        vertical-align: middle;\n",
       "    }\n",
       "\n",
       "    .dataframe tbody tr th {\n",
       "        vertical-align: top;\n",
       "    }\n",
       "\n",
       "    .dataframe thead th {\n",
       "        text-align: right;\n",
       "    }\n",
       "</style>\n",
       "<table border=\"1\" class=\"dataframe\">\n",
       "  <thead>\n",
       "    <tr style=\"text-align: right;\">\n",
       "      <th></th>\n",
       "      <th>Inv_Id</th>\n",
       "      <th>Vendor_Code</th>\n",
       "      <th>GL_Code</th>\n",
       "      <th>Inv_Amt</th>\n",
       "      <th>Item_Description</th>\n",
       "      <th>Product_Category</th>\n",
       "    </tr>\n",
       "  </thead>\n",
       "  <tbody>\n",
       "    <tr>\n",
       "      <th>0</th>\n",
       "      <td>15003</td>\n",
       "      <td>VENDOR-2513</td>\n",
       "      <td>GL-6050310</td>\n",
       "      <td>56.13</td>\n",
       "      <td>travel entertainment miscellaneous company car...</td>\n",
       "      <td>CLASS-1758</td>\n",
       "    </tr>\n",
       "    <tr>\n",
       "      <th>1</th>\n",
       "      <td>15008</td>\n",
       "      <td>VENDOR-1044</td>\n",
       "      <td>GL-6101400</td>\n",
       "      <td>96.56</td>\n",
       "      <td>final site clean store construction advanced m...</td>\n",
       "      <td>CLASS-1522</td>\n",
       "    </tr>\n",
       "    <tr>\n",
       "      <th>2</th>\n",
       "      <td>15013</td>\n",
       "      <td>VENDOR-1254</td>\n",
       "      <td>GL-6101400</td>\n",
       "      <td>55.93</td>\n",
       "      <td>arabian american development co final site cle...</td>\n",
       "      <td>CLASS-1522</td>\n",
       "    </tr>\n",
       "    <tr>\n",
       "      <th>3</th>\n",
       "      <td>15019</td>\n",
       "      <td>VENDOR-1331</td>\n",
       "      <td>GL-2182000</td>\n",
       "      <td>32.62</td>\n",
       "      <td>corporate services contingent labortemp labor ...</td>\n",
       "      <td>CLASS-1376</td>\n",
       "    </tr>\n",
       "    <tr>\n",
       "      <th>4</th>\n",
       "      <td>15020</td>\n",
       "      <td>VENDOR-2513</td>\n",
       "      <td>GL-6050310</td>\n",
       "      <td>25.81</td>\n",
       "      <td>fortune national corp miscellaneous company ca...</td>\n",
       "      <td>CLASS-1758</td>\n",
       "    </tr>\n",
       "    <tr>\n",
       "      <th>5</th>\n",
       "      <td>15022</td>\n",
       "      <td>VENDOR-2513</td>\n",
       "      <td>GL-6050310</td>\n",
       "      <td>22.71</td>\n",
       "      <td>dec2007 fortune national corp miscellaneous co...</td>\n",
       "      <td>CLASS-1758</td>\n",
       "    </tr>\n",
       "    <tr>\n",
       "      <th>6</th>\n",
       "      <td>15024</td>\n",
       "      <td>VENDOR-1883</td>\n",
       "      <td>GL-2182000</td>\n",
       "      <td>47.38</td>\n",
       "      <td>auto leasing corporate services corning inc ny...</td>\n",
       "      <td>CLASS-1250</td>\n",
       "    </tr>\n",
       "    <tr>\n",
       "      <th>7</th>\n",
       "      <td>15026</td>\n",
       "      <td>VENDOR-2543</td>\n",
       "      <td>GL-6020600</td>\n",
       "      <td>26.08</td>\n",
       "      <td>taxes taxes mar 2014 frischs restaurants inc n...</td>\n",
       "      <td>CLASS-2146</td>\n",
       "    </tr>\n",
       "    <tr>\n",
       "      <th>8</th>\n",
       "      <td>15027</td>\n",
       "      <td>VENDOR-1944</td>\n",
       "      <td>GL-2182000</td>\n",
       "      <td>42.76</td>\n",
       "      <td>daly john j auto fleet repair maintenance jun ...</td>\n",
       "      <td>CLASS-1249</td>\n",
       "    </tr>\n",
       "    <tr>\n",
       "      <th>9</th>\n",
       "      <td>15028</td>\n",
       "      <td>VENDOR-2032</td>\n",
       "      <td>GL-6100500</td>\n",
       "      <td>70.47</td>\n",
       "      <td>smap media buy  traditional cgg holding us inc...</td>\n",
       "      <td>CLASS-1850</td>\n",
       "    </tr>\n",
       "    <tr>\n",
       "      <th>10</th>\n",
       "      <td>15029</td>\n",
       "      <td>VENDOR-1717</td>\n",
       "      <td>GL-6050310</td>\n",
       "      <td>42.33</td>\n",
       "      <td>ground transportation miscellaneous company ca...</td>\n",
       "      <td>CLASS-1758</td>\n",
       "    </tr>\n",
       "    <tr>\n",
       "      <th>11</th>\n",
       "      <td>15031</td>\n",
       "      <td>VENDOR-1928</td>\n",
       "      <td>GL-6050100</td>\n",
       "      <td>1.04</td>\n",
       "      <td>base rent store management cuba republic 2016s...</td>\n",
       "      <td>CLASS-1274</td>\n",
       "    </tr>\n",
       "    <tr>\n",
       "      <th>12</th>\n",
       "      <td>15034</td>\n",
       "      <td>VENDOR-2117</td>\n",
       "      <td>GL-6101400</td>\n",
       "      <td>60.26</td>\n",
       "      <td>store construction final site clean general co...</td>\n",
       "      <td>CLASS-1522</td>\n",
       "    </tr>\n",
       "    <tr>\n",
       "      <th>13</th>\n",
       "      <td>15037</td>\n",
       "      <td>VENDOR-1944</td>\n",
       "      <td>GL-2182000</td>\n",
       "      <td>63.38</td>\n",
       "      <td>corporate services auto fleet repair maintenan...</td>\n",
       "      <td>CLASS-1249</td>\n",
       "    </tr>\n",
       "    <tr>\n",
       "      <th>14</th>\n",
       "      <td>15039</td>\n",
       "      <td>VENDOR-1834</td>\n",
       "      <td>GL-6101400</td>\n",
       "      <td>90.08</td>\n",
       "      <td>store construction final site clean general co...</td>\n",
       "      <td>CLASS-1522</td>\n",
       "    </tr>\n",
       "    <tr>\n",
       "      <th>15</th>\n",
       "      <td>15043</td>\n",
       "      <td>VENDOR-2226</td>\n",
       "      <td>GL-6050310</td>\n",
       "      <td>29.36</td>\n",
       "      <td>supply chain transportation services etz lavud...</td>\n",
       "      <td>CLASS-1870</td>\n",
       "    </tr>\n",
       "    <tr>\n",
       "      <th>16</th>\n",
       "      <td>15044</td>\n",
       "      <td>VENDOR-2556</td>\n",
       "      <td>GL-6101400</td>\n",
       "      <td>35.77</td>\n",
       "      <td>store fixtures aug2005 store construction thom...</td>\n",
       "      <td>CLASS-2112</td>\n",
       "    </tr>\n",
       "    <tr>\n",
       "      <th>17</th>\n",
       "      <td>15045</td>\n",
       "      <td>VENDOR-2455</td>\n",
       "      <td>GL-2182000</td>\n",
       "      <td>53.75</td>\n",
       "      <td>commercial insurance workmens insurance workme...</td>\n",
       "      <td>CLASS-2241</td>\n",
       "    </tr>\n",
       "    <tr>\n",
       "      <th>18</th>\n",
       "      <td>15050</td>\n",
       "      <td>VENDOR-1506</td>\n",
       "      <td>GL-6101400</td>\n",
       "      <td>25.28</td>\n",
       "      <td>brock exploration corp final site clean dec200...</td>\n",
       "      <td>CLASS-1522</td>\n",
       "    </tr>\n",
       "    <tr>\n",
       "      <th>19</th>\n",
       "      <td>15054</td>\n",
       "      <td>VENDOR-2408</td>\n",
       "      <td>GL-6050310</td>\n",
       "      <td>56.52</td>\n",
       "      <td>fort howard corp miscellaneous company car fie...</td>\n",
       "      <td>CLASS-1758</td>\n",
       "    </tr>\n",
       "  </tbody>\n",
       "</table>\n",
       "</div>"
      ],
      "text/plain": [
       "    Inv_Id  Vendor_Code     GL_Code  Inv_Amt  \\\n",
       "0    15003  VENDOR-2513  GL-6050310    56.13   \n",
       "1    15008  VENDOR-1044  GL-6101400    96.56   \n",
       "2    15013  VENDOR-1254  GL-6101400    55.93   \n",
       "3    15019  VENDOR-1331  GL-2182000    32.62   \n",
       "4    15020  VENDOR-2513  GL-6050310    25.81   \n",
       "5    15022  VENDOR-2513  GL-6050310    22.71   \n",
       "6    15024  VENDOR-1883  GL-2182000    47.38   \n",
       "7    15026  VENDOR-2543  GL-6020600    26.08   \n",
       "8    15027  VENDOR-1944  GL-2182000    42.76   \n",
       "9    15028  VENDOR-2032  GL-6100500    70.47   \n",
       "10   15029  VENDOR-1717  GL-6050310    42.33   \n",
       "11   15031  VENDOR-1928  GL-6050100     1.04   \n",
       "12   15034  VENDOR-2117  GL-6101400    60.26   \n",
       "13   15037  VENDOR-1944  GL-2182000    63.38   \n",
       "14   15039  VENDOR-1834  GL-6101400    90.08   \n",
       "15   15043  VENDOR-2226  GL-6050310    29.36   \n",
       "16   15044  VENDOR-2556  GL-6101400    35.77   \n",
       "17   15045  VENDOR-2455  GL-2182000    53.75   \n",
       "18   15050  VENDOR-1506  GL-6101400    25.28   \n",
       "19   15054  VENDOR-2408  GL-6050310    56.52   \n",
       "\n",
       "                                     Item_Description Product_Category  \n",
       "0   travel entertainment miscellaneous company car...       CLASS-1758  \n",
       "1   final site clean store construction advanced m...       CLASS-1522  \n",
       "2   arabian american development co final site cle...       CLASS-1522  \n",
       "3   corporate services contingent labortemp labor ...       CLASS-1376  \n",
       "4   fortune national corp miscellaneous company ca...       CLASS-1758  \n",
       "5   dec2007 fortune national corp miscellaneous co...       CLASS-1758  \n",
       "6   auto leasing corporate services corning inc ny...       CLASS-1250  \n",
       "7   taxes taxes mar 2014 frischs restaurants inc n...       CLASS-2146  \n",
       "8   daly john j auto fleet repair maintenance jun ...       CLASS-1249  \n",
       "9   smap media buy  traditional cgg holding us inc...       CLASS-1850  \n",
       "10  ground transportation miscellaneous company ca...       CLASS-1758  \n",
       "11  base rent store management cuba republic 2016s...       CLASS-1274  \n",
       "12  store construction final site clean general co...       CLASS-1522  \n",
       "13  corporate services auto fleet repair maintenan...       CLASS-1249  \n",
       "14  store construction final site clean general co...       CLASS-1522  \n",
       "15  supply chain transportation services etz lavud...       CLASS-1870  \n",
       "16  store fixtures aug2005 store construction thom...       CLASS-2112  \n",
       "17  commercial insurance workmens insurance workme...       CLASS-2241  \n",
       "18  brock exploration corp final site clean dec200...       CLASS-1522  \n",
       "19  fort howard corp miscellaneous company car fie...       CLASS-1758  "
      ]
     },
     "execution_count": 29,
     "metadata": {},
     "output_type": "execute_result"
    }
   ],
   "source": [
    "dftest.head(20)"
   ]
  },
  {
   "cell_type": "code",
   "execution_count": 30,
   "metadata": {},
   "outputs": [
    {
     "data": {
      "text/html": [
       "<div>\n",
       "<style scoped>\n",
       "    .dataframe tbody tr th:only-of-type {\n",
       "        vertical-align: middle;\n",
       "    }\n",
       "\n",
       "    .dataframe tbody tr th {\n",
       "        vertical-align: top;\n",
       "    }\n",
       "\n",
       "    .dataframe thead th {\n",
       "        text-align: right;\n",
       "    }\n",
       "</style>\n",
       "<table border=\"1\" class=\"dataframe\">\n",
       "  <thead>\n",
       "    <tr style=\"text-align: right;\">\n",
       "      <th></th>\n",
       "      <th>Inv_Id</th>\n",
       "      <th>Product_Category</th>\n",
       "    </tr>\n",
       "  </thead>\n",
       "  <tbody>\n",
       "    <tr>\n",
       "      <th>0</th>\n",
       "      <td>15003</td>\n",
       "      <td>CLASS-1758</td>\n",
       "    </tr>\n",
       "    <tr>\n",
       "      <th>1</th>\n",
       "      <td>15008</td>\n",
       "      <td>CLASS-1522</td>\n",
       "    </tr>\n",
       "    <tr>\n",
       "      <th>2</th>\n",
       "      <td>15013</td>\n",
       "      <td>CLASS-1522</td>\n",
       "    </tr>\n",
       "    <tr>\n",
       "      <th>3</th>\n",
       "      <td>15019</td>\n",
       "      <td>CLASS-1376</td>\n",
       "    </tr>\n",
       "    <tr>\n",
       "      <th>4</th>\n",
       "      <td>15020</td>\n",
       "      <td>CLASS-1758</td>\n",
       "    </tr>\n",
       "  </tbody>\n",
       "</table>\n",
       "</div>"
      ],
      "text/plain": [
       "   Inv_Id Product_Category\n",
       "0   15003       CLASS-1758\n",
       "1   15008       CLASS-1522\n",
       "2   15013       CLASS-1522\n",
       "3   15019       CLASS-1376\n",
       "4   15020       CLASS-1758"
      ]
     },
     "execution_count": 30,
     "metadata": {},
     "output_type": "execute_result"
    }
   ],
   "source": [
    "df_final = dftest[['Inv_Id', 'Product_Category']]\n",
    "df_final.head()"
   ]
  },
  {
   "cell_type": "markdown",
   "metadata": {},
   "source": [
    "## Storing the Final Prediction in 'Invoice_Product_Prediction.csv' "
   ]
  },
  {
   "cell_type": "code",
   "execution_count": 31,
   "metadata": {},
   "outputs": [],
   "source": [
    "df_final.to_csv('Invoice_Product_Prediction.csv', index = False)"
   ]
  },
  {
   "cell_type": "code",
   "execution_count": null,
   "metadata": {},
   "outputs": [],
   "source": []
  }
 ],
 "metadata": {
  "kernelspec": {
   "display_name": "Python 3",
   "language": "python",
   "name": "python3"
  },
  "language_info": {
   "codemirror_mode": {
    "name": "ipython",
    "version": 3
   },
   "file_extension": ".py",
   "mimetype": "text/x-python",
   "name": "python",
   "nbconvert_exporter": "python",
   "pygments_lexer": "ipython3",
   "version": "3.7.3"
  }
 },
 "nbformat": 4,
 "nbformat_minor": 2
}
